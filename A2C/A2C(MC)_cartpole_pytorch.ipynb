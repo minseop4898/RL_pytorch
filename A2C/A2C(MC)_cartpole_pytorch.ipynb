{
 "cells": [
  {
   "cell_type": "markdown",
   "metadata": {},
   "source": [
    "MC Advantage Actor Critic(A2C) Cartpole-v1 environment\n",
    "\n",
    "(Some tricks)\n",
    "- Return target(MC)\n",
    "- Different learning rate of Actor and Critic network (Actor : 1e-4, Critic : 3e-3) <- 과도한 policy update 방지"
   ]
  },
  {
   "cell_type": "code",
   "execution_count": 1,
   "metadata": {},
   "outputs": [],
   "source": [
    "import gym\n",
    "import torch\n",
    "import torch.nn as nn\n",
    "import torch.nn.functional as F\n",
    "import torch.optim as optim\n",
    "from torch.distributions import Categorical\n",
    "import matplotlib.pyplot as plt\n",
    "import numpy as np\n",
    "import time"
   ]
  },
  {
   "cell_type": "code",
   "execution_count": 2,
   "metadata": {},
   "outputs": [],
   "source": [
    "class A2C(nn.Module):\n",
    "    def __init__(self):\n",
    "        super(A2C, self).__init__()\n",
    "        self.fc1 = nn.Linear(4,512)\n",
    "        self.fc_pi = nn.Linear(512,2)\n",
    "        self.fc2 = nn.Linear(4,512)\n",
    "        self.fc_v = nn.Linear(512,1)\n",
    "        self.actor_optimizer = optim.Adam(self.parameters(), lr=0.0001)\n",
    "        self.value_optimizer = optim.Adam(self.parameters(), lr=0.003)\n",
    "        \n",
    "    def forward(self, x):\n",
    "        x_pi = F.relu(self.fc1(x))\n",
    "        policy = F.softmax(self.fc_pi(x_pi), dim=0)\n",
    "        x_v = F.relu(self.fc2(x))\n",
    "        v = self.fc_v(x_v)\n",
    "        return policy, v\n",
    "        \n",
    "    def train(self, actor_loss, value_loss):\n",
    "        actor_loss = actor_loss.mean()\n",
    "        self.actor_optimizer.zero_grad()\n",
    "        actor_loss.backward()\n",
    "        self.actor_optimizer.step()\n",
    "        self.actor_loss_list = []\n",
    "        \n",
    "        value_loss = value_loss.mean()\n",
    "        self.value_optimizer.zero_grad()\n",
    "        value_loss.backward()\n",
    "        self.value_optimizer.step()\n",
    "        self.value_loss_list = []"
   ]
  },
  {
   "cell_type": "code",
   "execution_count": 3,
   "metadata": {},
   "outputs": [],
   "source": [
    "env = gym.make('CartPole-v1')\n",
    "model = A2C()\n",
    "model.cuda()\n",
    "GAMMA = 0.99"
   ]
  },
  {
   "cell_type": "code",
   "execution_count": 4,
   "metadata": {},
   "outputs": [],
   "source": [
    "def make_return(r_list):\n",
    "    G_list = []\n",
    "    temp_G = 0.0\n",
    "    for R in r_list[::-1]:\n",
    "        temp_G *= GAMMA\n",
    "        temp_G += R\n",
    "        G_list.append(temp_G)\n",
    "    G_list.reverse()\n",
    "    return G_list\n",
    "\n",
    "def make_loss_and_training(s_list, p_list, g_list, a_list, r_list):\n",
    "    s_tensor = torch.cat(s_list, dim=0)\n",
    "    r = torch.tensor(r_list, dtype=torch.float).reshape(-1,1).cuda()\n",
    "    pi = torch.cat(p_list, dim=0)\n",
    "    g = torch.tensor(g_list, dtype=torch.float).reshape(-1,1).cuda()\n",
    "    \n",
    "    values = model(s_tensor)[1]\n",
    "    cur_value = values[:-1]\n",
    "    next_value = values[1:]\n",
    "    td_error = r + GAMMA*next_value - cur_value\n",
    "    actor_loss = -torch.log(pi.gather(1, torch.tensor(a_list).cuda().reshape(-1,1)))*td_error.detach()\n",
    "    critic_loss = (g-cur_value).pow(2)\n",
    "    \n",
    "    model.train(actor_loss, critic_loss)"
   ]
  },
  {
   "cell_type": "code",
   "execution_count": 5,
   "metadata": {
    "scrolled": true
   },
   "outputs": [
    {
     "name": "stdout",
     "output_type": "stream",
     "text": [
      "Episode 99 , Reward mean : 18.030000\n",
      "Episode 199 , Reward mean : 24.930000\n",
      "Episode 299 , Reward mean : 40.770000\n",
      "Episode 399 , Reward mean : 58.990000\n",
      "Episode 499 , Reward mean : 66.850000\n",
      "Episode 599 , Reward mean : 98.810000\n",
      "Episode 699 , Reward mean : 147.900000\n",
      "Episode 799 , Reward mean : 168.450000\n",
      "Episode 899 , Reward mean : 172.420000\n",
      "Episode 999 , Reward mean : 217.570000\n",
      "Episode 1099 , Reward mean : 271.750000\n",
      "Episode 1199 , Reward mean : 309.880000\n",
      "Episode 1299 , Reward mean : 336.330000\n",
      "Episode 1399 , Reward mean : 380.090000\n",
      "Episode 1499 , Reward mean : 388.680000\n",
      "Episode 1599 , Reward mean : 432.430000\n",
      "Episode 1699 , Reward mean : 432.210000\n",
      "Episode 1799 , Reward mean : 464.880000\n",
      "Episode 1899 , Reward mean : 475.930000\n",
      "Episode 1999 , Reward mean : 459.840000\n"
     ]
    }
   ],
   "source": [
    "reward_sum = 0.0\n",
    "reward_list = []\n",
    "\n",
    "for ep in range(2000):\n",
    "    s_list, p_list, r_list, a_list = [], [], [], []\n",
    "    observation = env.reset()\n",
    "    state = torch.tensor(observation, dtype=torch.float).cuda()\n",
    "    while True:\n",
    "        policy, value = model(state)\n",
    "        action = Categorical(policy).sample()\n",
    "        observation, reward, done, _ = env.step(action.item())\n",
    "        reward_sum += reward\n",
    "        s_list.append(state.unsqueeze(0))\n",
    "        p_list.append(policy.unsqueeze(0))\n",
    "        r_list.append(reward)\n",
    "        a_list.append(action)\n",
    "        state = torch.tensor(observation, dtype=torch.float).cuda()\n",
    "        if done:\n",
    "            break\n",
    "    s_list.append(state.unsqueeze(0))\n",
    "    g_list = make_return(r_list)\n",
    "    make_loss_and_training(s_list, p_list, g_list, a_list, r_list)\n",
    "    \n",
    "    if ep % 100 == 99:\n",
    "        print('Episode %d'%ep,', Reward mean : %f'%(reward_sum/100.0))\n",
    "        reward_list.append(reward_sum/100.0)\n",
    "        #plt.plot(reward_list)\n",
    "        #plt.show()\n",
    "        reward_sum = 0.0\n",
    "env.close()"
   ]
  },
  {
   "cell_type": "markdown",
   "metadata": {},
   "source": [
    "Learning curve\n",
    "\n",
    "mean reward every 100 episodes"
   ]
  },
  {
   "cell_type": "code",
   "execution_count": 6,
   "metadata": {},
   "outputs": [
    {
     "data": {
      "image/png": "[encoded data removed]",
      "text/plain": [
       "<Figure size 432x288 with 1 Axes>"
      ]
     },
     "metadata": {
      "needs_background": "light"
     },
     "output_type": "display_data"
    }
   ],
   "source": [
    "plt.plot(reward_list)\n",
    "plt.show()"
   ]
  },
  {
   "cell_type": "markdown",
   "metadata": {},
   "source": [
    "Test Rendering"
   ]
  },
  {
   "cell_type": "code",
   "execution_count": 7,
   "metadata": {},
   "outputs": [],
   "source": [
    "for ep in range(10):\n",
    "    observation = env.reset()\n",
    "    while True:\n",
    "        time.sleep(0.05)\n",
    "        env.render()\n",
    "\n",
    "        state = torch.tensor(observation, dtype=torch.float).cuda()\n",
    "        policy, value = model(state)\n",
    "        action = Categorical(policy).sample()\n",
    "        observation, reward, done, _ = env.step(action.item())\n",
    "        if done: break\n",
    "env.close()"
   ]
  },
  {
   "cell_type": "markdown",
   "metadata": {},
   "source": [
    "- Reference\n",
    "\n",
    "https://github.com/seungeunrho/minimalRL\n",
    "\n",
    "https://github.com/rgilman33/simple-A2C/blob/master/2_A2C-nstep.ipynb\n",
    "\n",
    "https://github.com/pytorch/examples/blob/master/reinforcement_learning/actor_critic.py"
   ]
  }
 ],
 "metadata": {
  "kernelspec": {
   "display_name": "Python 3",
   "language": "python",
   "name": "python3"
  },
  "language_info": {
   "codemirror_mode": {
    "name": "ipython",
    "version": 3
   },
   "file_extension": ".py",
   "mimetype": "text/x-python",
   "name": "python",
   "nbconvert_exporter": "python",
   "pygments_lexer": "ipython3",
   "version": "3.7.3"
  }
 },
 "nbformat": 4,
 "nbformat_minor": 2
}
