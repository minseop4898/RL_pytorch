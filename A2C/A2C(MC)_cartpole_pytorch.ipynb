{
 "cells": [
  {
   "cell_type": "markdown",
   "metadata": {},
   "source": [
    "MC Advantage Actor Critic(A2C) Cartpole-v1 environment\n",
    "\n",
    "(Some tricks)\n",
    "- Return target(MC)\n",
    "- Different learning rate of Actor and Critic network (Actor : 1e-4, Critic : 3e-3) <- 과도한 policy update 방지"
   ]
  },
  {
   "cell_type": "code",
   "execution_count": 1,
   "metadata": {},
   "outputs": [],
   "source": [
    "import gym\n",
    "import torch\n",
    "import torch.nn as nn\n",
    "import torch.nn.functional as F\n",
    "import torch.optim as optim\n",
    "from torch.distributions import Categorical\n",
    "import matplotlib.pyplot as plt\n",
    "import time"
   ]
  },
  {
   "cell_type": "code",
   "execution_count": 2,
   "metadata": {},
   "outputs": [],
   "source": [
    "class A2C(nn.Module):\n",
    "    def __init__(self):\n",
    "        super(A2C, self).__init__()\n",
    "        self.actor_loss_list = []\n",
    "        self.value_loss_list = []\n",
    "        self.fc1 = nn.Linear(4,512)\n",
    "        self.fc_pi = nn.Linear(512,2)\n",
    "        self.fc2 = nn.Linear(4,512)\n",
    "        self.fc_v = nn.Linear(512,1)\n",
    "        self.actor_optimizer = optim.Adam(self.parameters(), lr=0.0001)\n",
    "        self.value_optimizer = optim.Adam(self.parameters(), lr=0.003)\n",
    "        \n",
    "    def forward(self, x):\n",
    "        x_pi = F.relu(self.fc1(x))\n",
    "        policy = F.softmax(self.fc_pi(x_pi), dim=0)\n",
    "        x_v = F.relu(self.fc2(x))\n",
    "        v = self.fc_v(x_v)\n",
    "        return policy, v\n",
    "    \n",
    "    def gather_loss(self, actor_loss, value_loss):\n",
    "        self.actor_loss_list.append(actor_loss.unsqueeze(0))\n",
    "        self.value_loss_list.append(value_loss.unsqueeze(0))\n",
    "        \n",
    "    def train(self):\n",
    "        actor_loss = torch.cat(self.actor_loss_list).sum()\n",
    "        actor_loss /= len(self.actor_loss_list)\n",
    "        self.actor_optimizer.zero_grad()\n",
    "        actor_loss.backward(retain_graph=True)\n",
    "        self.actor_optimizer.step()\n",
    "        self.actor_loss_list = []\n",
    "        \n",
    "        value_loss = torch.cat(self.value_loss_list).sum()\n",
    "        value_loss /= len(self.value_loss_list)\n",
    "        self.value_optimizer.zero_grad()\n",
    "        value_loss.backward(retain_graph=True)\n",
    "        self.value_optimizer.step()\n",
    "        self.value_loss_list = []"
   ]
  },
  {
   "cell_type": "code",
   "execution_count": 3,
   "metadata": {},
   "outputs": [],
   "source": [
    "env = gym.make('CartPole-v1')\n",
    "model = A2C()\n",
    "model.cuda()\n",
    "GAMMA = 0.99"
   ]
  },
  {
   "cell_type": "code",
   "execution_count": 4,
   "metadata": {},
   "outputs": [],
   "source": [
    "def make_return(r_list):\n",
    "    G_list = []\n",
    "    temp_G = 0.0\n",
    "    for R in r_list[::-1]:\n",
    "        temp_G *= GAMMA\n",
    "        temp_G += R\n",
    "        G_list.append(temp_G)\n",
    "    G_list.reverse()\n",
    "    return G_list\n",
    "\n",
    "def make_loss_and_training(s_list, p_list, g_list, a_list, epoch=10):\n",
    "    for i in range(len(s_list)-1):\n",
    "        cur_value = model(s_list[i])[1]\n",
    "        next_value = model(s_list[i+1])[1]\n",
    "        td_error = r_list[i] + GAMMA*next_value - cur_value\n",
    "        actor_loss = -torch.log(p_list[i][a_list[i]])*td_error.detach()\n",
    "        critic_loss = (g_list[0]-cur_value).pow(2)\n",
    "        model.gather_loss(actor_loss, critic_loss)\n",
    "    model.train()"
   ]
  },
  {
   "cell_type": "code",
   "execution_count": 5,
   "metadata": {
    "scrolled": false
   },
   "outputs": [
    {
     "name": "stdout",
     "output_type": "stream",
     "text": [
      "Episode 99 , Reward mean : 19.140000\n",
      "Episode 199 , Reward mean : 14.000000\n",
      "Episode 299 , Reward mean : 14.560000\n",
      "Episode 399 , Reward mean : 14.650000\n",
      "Episode 499 , Reward mean : 16.490000\n",
      "Episode 599 , Reward mean : 18.600000\n",
      "Episode 699 , Reward mean : 28.250000\n",
      "Episode 799 , Reward mean : 35.130000\n",
      "Episode 899 , Reward mean : 63.120000\n",
      "Episode 999 , Reward mean : 60.260000\n",
      "Episode 1099 , Reward mean : 66.510000\n",
      "Episode 1199 , Reward mean : 121.910000\n",
      "Episode 1299 , Reward mean : 80.770000\n",
      "Episode 1399 , Reward mean : 95.470000\n",
      "Episode 1499 , Reward mean : 137.430000\n",
      "Episode 1599 , Reward mean : 120.780000\n",
      "Episode 1699 , Reward mean : 121.310000\n",
      "Episode 1799 , Reward mean : 117.590000\n",
      "Episode 1899 , Reward mean : 132.840000\n",
      "Episode 1999 , Reward mean : 138.280000\n",
      "Episode 2099 , Reward mean : 141.690000\n",
      "Episode 2199 , Reward mean : 144.390000\n",
      "Episode 2299 , Reward mean : 164.380000\n",
      "Episode 2399 , Reward mean : 193.340000\n",
      "Episode 2499 , Reward mean : 203.300000\n",
      "Episode 2599 , Reward mean : 205.070000\n",
      "Episode 2699 , Reward mean : 220.270000\n",
      "Episode 2799 , Reward mean : 235.030000\n",
      "Episode 2899 , Reward mean : 219.480000\n",
      "Episode 2999 , Reward mean : 200.280000\n",
      "Episode 3099 , Reward mean : 199.010000\n",
      "Episode 3199 , Reward mean : 214.100000\n",
      "Episode 3299 , Reward mean : 308.290000\n",
      "Episode 3399 , Reward mean : 324.130000\n",
      "Episode 3499 , Reward mean : 401.990000\n",
      "Episode 3599 , Reward mean : 474.270000\n",
      "Episode 3699 , Reward mean : 452.730000\n",
      "Episode 3799 , Reward mean : 444.480000\n",
      "Episode 3899 , Reward mean : 465.370000\n",
      "Episode 3999 , Reward mean : 477.000000\n",
      "Episode 4099 , Reward mean : 486.640000\n",
      "Episode 4199 , Reward mean : 496.070000\n",
      "Episode 4299 , Reward mean : 497.870000\n",
      "Episode 4399 , Reward mean : 500.000000\n",
      "Episode 4499 , Reward mean : 500.000000\n"
     ]
    }
   ],
   "source": [
    "reward_sum = 0.0\n",
    "reward_list = []\n",
    "\n",
    "for ep in range(4500):\n",
    "    s_list, p_list, r_list, a_list = [], [], [], []\n",
    "    observation = env.reset()\n",
    "    state = torch.tensor(observation, dtype=torch.float).cuda()\n",
    "    while True:\n",
    "        policy, value = model(state)\n",
    "        action = Categorical(policy).sample()\n",
    "        observation, reward, done, _ = env.step(action.item())\n",
    "        reward_sum += reward\n",
    "        s_list.append(state)\n",
    "        p_list.append(policy)\n",
    "        r_list.append(reward)\n",
    "        a_list.append(action)\n",
    "        state = torch.tensor(observation, dtype=torch.float).cuda()\n",
    "        if done:\n",
    "            break\n",
    "    s_list.append(state)\n",
    "    g_list = make_return(r_list)\n",
    "    make_loss_and_training(s_list, p_list, g_list, a_list, epoch=10)\n",
    "    \n",
    "    if ep % 100 == 99:\n",
    "        print('Episode %d'%ep,', Reward mean : %f'%(reward_sum/100.0))\n",
    "        reward_list.append(reward_sum/100.0)\n",
    "        #plt.plot(reward_list)\n",
    "        #plt.show()\n",
    "        reward_sum = 0.0\n",
    "env.close()"
   ]
  },
  {
   "cell_type": "markdown",
   "metadata": {},
   "source": [
    "Learning curve\n",
    "\n",
    "mean reward every 100 episodes"
   ]
  },
  {
   "cell_type": "code",
   "execution_count": 6,
   "metadata": {},
   "outputs": [
    {
     "data": {
      "image/png": "[encoded data removed]",
      "text/plain": [
       "<Figure size 432x288 with 1 Axes>"
      ]
     },
     "metadata": {
      "needs_background": "light"
     },
     "output_type": "display_data"
    }
   ],
   "source": [
    "plt.plot(reward_list)\n",
    "plt.show()"
   ]
  },
  {
   "cell_type": "markdown",
   "metadata": {},
   "source": [
    "Test Rendering"
   ]
  },
  {
   "cell_type": "code",
   "execution_count": 7,
   "metadata": {},
   "outputs": [],
   "source": [
    "for ep in range(10):\n",
    "    observation = env.reset()\n",
    "    while True:\n",
    "        time.sleep(0.05)\n",
    "        env.render()\n",
    "\n",
    "        state = torch.tensor(observation, dtype=torch.float).cuda()\n",
    "        policy, value = model(state)\n",
    "        action = Categorical(policy).sample()\n",
    "        observation, reward, done, _ = env.step(action.item())\n",
    "        if done: break\n",
    "env.close()"
   ]
  },
  {
   "cell_type": "markdown",
   "metadata": {},
   "source": [
    "- Reference\n",
    "\n",
    "https://github.com/seungeunrho/minimalRL\n",
    "\n",
    "https://github.com/rgilman33/simple-A2C/blob/master/2_A2C-nstep.ipynb\n",
    "\n",
    "https://github.com/pytorch/examples/blob/master/reinforcement_learning/actor_critic.py"
   ]
  }
 ],
 "metadata": {
  "kernelspec": {
   "display_name": "Python 3",
   "language": "python",
   "name": "python3"
  },
  "language_info": {
   "codemirror_mode": {
    "name": "ipython",
    "version": 3
   },
   "file_extension": ".py",
   "mimetype": "text/x-python",
   "name": "python",
   "nbconvert_exporter": "python",
   "pygments_lexer": "ipython3",
   "version": "3.7.3"
  }
 },
 "nbformat": 4,
 "nbformat_minor": 2
}
