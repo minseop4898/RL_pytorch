{
 "cells": [
  {
   "cell_type": "markdown",
   "metadata": {},
   "source": [
    "TD(0) Advantage Actor Critic(A2C) Cartpole-v1 environment"
   ]
  },
  {
   "cell_type": "code",
   "execution_count": 1,
   "metadata": {},
   "outputs": [],
   "source": [
    "import gym\n",
    "import torch\n",
    "import torch.nn as nn\n",
    "import torch.nn.functional as F\n",
    "import torch.optim as optim\n",
    "from torch.distributions import Categorical\n",
    "import matplotlib.pyplot as plt\n",
    "import time"
   ]
  },
  {
   "cell_type": "code",
   "execution_count": 2,
   "metadata": {},
   "outputs": [],
   "source": [
    "class A2C(nn.Module):\n",
    "    def __init__(self):\n",
    "        super(A2C, self).__init__()\n",
    "        self.loss_list = []\n",
    "        self.fc1 = nn.Linear(4,256)\n",
    "        self.fc_pi = nn.Linear(256,2)\n",
    "        self.fc_v = nn.Linear(256,1)\n",
    "        self.optimizer = optim.Adam(self.parameters(), lr=0.003)\n",
    "        \n",
    "    def forward(self, x):\n",
    "        x = F.relu(self.fc1(x))\n",
    "        policy = F.softmax(self.fc_pi(x), dim=0)\n",
    "        v = self.fc_v(x)\n",
    "        return policy, v\n",
    "    \n",
    "    def gather_loss(self, loss):\n",
    "        self.loss_list.append(loss.unsqueeze(0))\n",
    "        \n",
    "    def train(self):\n",
    "        loss = torch.cat(self.loss_list).sum()\n",
    "        loss /= len(self.loss_list)\n",
    "        self.optimizer.zero_grad()\n",
    "        loss.backward()\n",
    "        self.optimizer.step()\n",
    "        self.loss_list = []"
   ]
  },
  {
   "cell_type": "code",
   "execution_count": 3,
   "metadata": {},
   "outputs": [],
   "source": [
    "env = gym.make('CartPole-v1')\n",
    "model = A2C()\n",
    "model.cuda()\n",
    "GAMMA = 0.99"
   ]
  },
  {
   "cell_type": "code",
   "execution_count": 4,
   "metadata": {
    "scrolled": true
   },
   "outputs": [
    {
     "name": "stdout",
     "output_type": "stream",
     "text": [
      "Episode 99 , Reward mean : 32.850000\n",
      "Episode 199 , Reward mean : 56.430000\n",
      "Episode 299 , Reward mean : 100.540000\n",
      "Episode 399 , Reward mean : 86.900000\n",
      "Episode 499 , Reward mean : 161.950000\n",
      "Episode 599 , Reward mean : 251.430000\n",
      "Episode 699 , Reward mean : 314.710000\n",
      "Episode 799 , Reward mean : 382.000000\n",
      "Episode 899 , Reward mean : 457.240000\n",
      "Episode 999 , Reward mean : 464.520000\n",
      "Episode 1099 , Reward mean : 498.410000\n",
      "Episode 1199 , Reward mean : 491.530000\n",
      "Episode 1299 , Reward mean : 492.040000\n",
      "Episode 1399 , Reward mean : 499.620000\n",
      "Episode 1499 , Reward mean : 499.470000\n"
     ]
    }
   ],
   "source": [
    "reward_sum = 0.0\n",
    "reward_list = []\n",
    "\n",
    "for ep in range(1500):\n",
    "    observation = env.reset()\n",
    "    while True:\n",
    "        state = torch.tensor(observation, dtype=torch.float).cuda()\n",
    "        policy, value = model(state)\n",
    "        action = Categorical(policy).sample()\n",
    "        \n",
    "        observation, reward, done, _ = env.step(action.item())\n",
    "        reward_sum += reward\n",
    "        next_state = torch.tensor(observation, dtype=torch.float).cuda()\n",
    "        _, next_value = model(next_state)\n",
    "        td_error = reward + GAMMA*next_value - value\n",
    "        loss = -torch.log(policy[action.detach()])*td_error.detach() + (td_error)**2\n",
    "        model.gather_loss(loss)\n",
    "        if done:\n",
    "            break\n",
    "    model.train()\n",
    "    \n",
    "    if ep % 100 == 99:\n",
    "        print('Episode %d'%ep,', Reward mean : %f'%(reward_sum/100.0))\n",
    "        reward_list.append(reward_sum/100.0)\n",
    "        #plt.plot(reward_list)\n",
    "        #plt.show()\n",
    "        reward_sum = 0.0\n",
    "env.close()"
   ]
  },
  {
   "cell_type": "markdown",
   "metadata": {},
   "source": [
    "Learning curve\n",
    "\n",
    "mean reward every 100 episodes"
   ]
  },
  {
   "cell_type": "code",
   "execution_count": 5,
   "metadata": {},
   "outputs": [
    {
     "data": {
      "image/png": "[encoded data removed]",
      "text/plain": [
       "<Figure size 432x288 with 1 Axes>"
      ]
     },
     "metadata": {
      "needs_background": "light"
     },
     "output_type": "display_data"
    }
   ],
   "source": [
    "plt.plot(reward_list)\n",
    "plt.show()"
   ]
  },
  {
   "cell_type": "markdown",
   "metadata": {},
   "source": [
    "Test Rendering"
   ]
  },
  {
   "cell_type": "code",
   "execution_count": 7,
   "metadata": {},
   "outputs": [],
   "source": [
    "for ep in range(10):\n",
    "    observation = env.reset()\n",
    "    while True:\n",
    "        time.sleep(0.05)\n",
    "        env.render()\n",
    "\n",
    "        state = torch.tensor(observation, dtype=torch.float).cuda()\n",
    "        policy, value = model(state)\n",
    "        action = Categorical(policy).sample()\n",
    "        observation, reward, done, _ = env.step(action.item())\n",
    "        if done: break\n",
    "env.close()"
   ]
  },
  {
   "cell_type": "markdown",
   "metadata": {},
   "source": [
    "- Reference\n",
    "\n",
    "https://github.com/seungeunrho/minimalRL"
   ]
  }
 ],
 "metadata": {
  "kernelspec": {
   "display_name": "Python 3",
   "language": "python",
   "name": "python3"
  },
  "language_info": {
   "codemirror_mode": {
    "name": "ipython",
    "version": 3
   },
   "file_extension": ".py",
   "mimetype": "text/x-python",
   "name": "python",
   "nbconvert_exporter": "python",
   "pygments_lexer": "ipython3",
   "version": "3.7.3"
  }
 },
 "nbformat": 4,
 "nbformat_minor": 2
}
