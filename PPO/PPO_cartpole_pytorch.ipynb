{
 "cells": [
  {
   "cell_type": "markdown",
   "metadata": {},
   "source": [
    "PPO Cartpole-v1 environment\n",
    "- No Parameter sharing"
   ]
  },
  {
   "cell_type": "code",
   "execution_count": 1,
   "metadata": {},
   "outputs": [],
   "source": [
    "import gym\n",
    "import torch\n",
    "import torch.nn as nn\n",
    "import torch.nn.functional as F\n",
    "import torch.optim as optim\n",
    "from torch.distributions import Categorical\n",
    "import matplotlib.pyplot as plt\n",
    "import numpy as np\n",
    "import time"
   ]
  },
  {
   "cell_type": "code",
   "execution_count": 2,
   "metadata": {},
   "outputs": [],
   "source": [
    "class PPO(nn.Module):\n",
    "    def __init__(self):\n",
    "        super(PPO, self).__init__()\n",
    "        self.fc1 = nn.Linear(4,512)\n",
    "        self.fc2 = nn.Linear(4,512)\n",
    "        self.fc_pi = nn.Linear(512,2)\n",
    "        self.fc_v = nn.Linear(512,1)\n",
    "        self.optimizer = optim.Adam(self.parameters(), lr=0.0005)\n",
    "    \n",
    "    def forward(self, x):\n",
    "        x_pi = F.relu(self.fc1(x))\n",
    "        policy = F.softmax(self.fc_pi(x_pi), dim=1) ## softmax dim = 1 <- for batch\n",
    "        x_v = F.relu(self.fc2(x))\n",
    "        v = self.fc_v(x_v)\n",
    "        return policy, v\n",
    "    \n",
    "    def train(self, loss):\n",
    "        self.optimizer.zero_grad()\n",
    "        loss.backward(retain_graph=True)\n",
    "        self.optimizer.step()"
   ]
  },
  {
   "cell_type": "code",
   "execution_count": 3,
   "metadata": {},
   "outputs": [],
   "source": [
    "env = gym.make('CartPole-v1')\n",
    "model = PPO()\n",
    "GAMMA = 0.98\n",
    "LAMBDA = 0.95\n",
    "EPOCH = 3\n",
    "EPS = 0.1\n",
    "T = 20"
   ]
  },
  {
   "cell_type": "code",
   "execution_count": 4,
   "metadata": {},
   "outputs": [],
   "source": [
    "def append_data(s_list, p_list, a_list, r_list, state, policy, reward, action):\n",
    "    s_list.append(state)\n",
    "    p_list.append(policy.unsqueeze(0))\n",
    "    r_list.append(reward)\n",
    "    a_list.append(action)\n",
    "    \n",
    "def make_GAE(delta):\n",
    "    GAE_list = []\n",
    "    temp_GAE = 0.0\n",
    "    delta_list = delta.reshape(-1).detach().numpy()\n",
    "    for d in delta_list[::-1]:\n",
    "        temp_GAE *= GAMMA*LAMBDA\n",
    "        temp_GAE += d\n",
    "        GAE_list.append(temp_GAE)\n",
    "    GAE_list.reverse()\n",
    "    return torch.tensor(GAE_list, dtype=torch.float).reshape(-1,1)\n",
    "    \n",
    "def make_loss_and_training(s_list, p_list, a_list, r_list, done):\n",
    "    s_tensor = torch.cat(s_list, dim=0)\n",
    "    r = torch.tensor(r_list, dtype=torch.float).reshape(-1,1)\n",
    "    old_pi = torch.cat(p_list, dim=0).detach()\n",
    "    a = torch.tensor(a_list).reshape(-1,1)\n",
    "    \n",
    "    for K in range(EPOCH):\n",
    "        cur_pi = model(s_tensor[:-1])[0]\n",
    "        values = model(s_tensor)[1]\n",
    "        cur_value = values[:-1]\n",
    "        next_value = values[1:]\n",
    "        if done: next_value[-1] *= 0 ####### Very important!!! terminal state value must be zero!!!! #######\n",
    "        td_error = r + GAMMA*next_value - cur_value\n",
    "        td_target = r + GAMMA*next_value\n",
    "        At = make_GAE(td_error)\n",
    "        ratio = torch.exp(torch.log(cur_pi.gather(1,a)) - torch.log(old_pi.gather(1,a)))\n",
    "        loss_clip = torch.min(ratio*At, torch.clamp(ratio, 1-EPS, 1+EPS)*At)\n",
    "        loss_vf = F.smooth_l1_loss(cur_value, td_target.detach())\n",
    "        total_loss = (-loss_clip + loss_vf).mean()\n",
    "        model.train(total_loss)"
   ]
  },
  {
   "cell_type": "code",
   "execution_count": 5,
   "metadata": {},
   "outputs": [
    {
     "name": "stdout",
     "output_type": "stream",
     "text": [
      "Episode 99 , Reward mean : 31.790000\n",
      "Episode 199 , Reward mean : 164.380000\n",
      "Episode 299 , Reward mean : 182.780000\n",
      "Episode 399 , Reward mean : 262.720000\n",
      "Episode 499 , Reward mean : 193.510000\n",
      "Episode 599 , Reward mean : 243.380000\n",
      "Episode 699 , Reward mean : 270.050000\n",
      "Episode 799 , Reward mean : 385.860000\n",
      "Episode 899 , Reward mean : 409.200000\n",
      "Episode 999 , Reward mean : 238.490000\n",
      "Episode 1099 , Reward mean : 225.900000\n",
      "Episode 1199 , Reward mean : 274.870000\n",
      "Episode 1299 , Reward mean : 364.900000\n",
      "Episode 1399 , Reward mean : 357.160000\n",
      "Episode 1499 , Reward mean : 377.290000\n",
      "Episode 1599 , Reward mean : 220.490000\n",
      "Episode 1699 , Reward mean : 327.870000\n",
      "Episode 1799 , Reward mean : 451.300000\n",
      "Episode 1899 , Reward mean : 279.360000\n",
      "Episode 1999 , Reward mean : 417.960000\n"
     ]
    }
   ],
   "source": [
    "reward_sum = 0.0\n",
    "reward_list = []\n",
    "\n",
    "for ep in range(2000):\n",
    "    observation = env.reset()\n",
    "    state = torch.tensor(observation, dtype=torch.float).unsqueeze(0) ## unsqueeze for softmax\n",
    "    done = False\n",
    "    while not done:\n",
    "        s_list, r_list, a_list, p_list = [], [], [], []\n",
    "        for t in range(T):\n",
    "            policy, _ = model(state)\n",
    "            policy = policy[0]\n",
    "            action = Categorical(policy).sample()\n",
    "            observation, reward, done, _ = env.step(action.item())\n",
    "            \n",
    "            reward_sum += reward\n",
    "            append_data(s_list, p_list, a_list, r_list, state, policy, reward, action)\n",
    "            \n",
    "            state = torch.tensor(observation, dtype=torch.float).unsqueeze(0)\n",
    "            if done:\n",
    "                break\n",
    "        s_list.append(state)\n",
    "        make_loss_and_training(s_list, p_list, a_list, r_list, done)\n",
    "        \n",
    "    if ep % 100 == 99:\n",
    "        print('Episode %d'%ep,', Reward mean : %f'%(reward_sum/100.0))\n",
    "        reward_list.append(reward_sum/100.0)\n",
    "        #plt.plot(reward_list)\n",
    "        #plt.show()\n",
    "        reward_sum = 0.0\n",
    "env.close()"
   ]
  },
  {
   "cell_type": "markdown",
   "metadata": {},
   "source": [
    "Learning curve\n",
    "\n",
    "mean reward every 100 episodes"
   ]
  },
  {
   "cell_type": "code",
   "execution_count": 6,
   "metadata": {},
   "outputs": [
    {
     "data": {
      "image/png": "[encoded data removed]",
      "text/plain": [
       "<Figure size 432x288 with 1 Axes>"
      ]
     },
     "metadata": {
      "needs_background": "light"
     },
     "output_type": "display_data"
    }
   ],
   "source": [
    "plt.plot(reward_list)\n",
    "plt.show()"
   ]
  },
  {
   "cell_type": "markdown",
   "metadata": {},
   "source": [
    "Test rendering"
   ]
  },
  {
   "cell_type": "code",
   "execution_count": 7,
   "metadata": {},
   "outputs": [],
   "source": [
    "\n",
    "for ep in range(10):\n",
    "    observation = env.reset()\n",
    "    while True:\n",
    "        time.sleep(0.05)\n",
    "        env.render()\n",
    "\n",
    "        state = torch.tensor(observation, dtype=torch.float).unsqueeze(0)\n",
    "        policy, _ = model(state)\n",
    "        action = Categorical(policy[0]).sample()\n",
    "        observation, reward, done, _ = env.step(action.item())\n",
    "        if done: break\n",
    "env.close()"
   ]
  },
  {
   "cell_type": "markdown",
   "metadata": {},
   "source": [
    "Reference\n",
    "\n",
    "- https://github.com/seungeunrho/minimalRL"
   ]
  }
 ],
 "metadata": {
  "kernelspec": {
   "display_name": "Python 3",
   "language": "python",
   "name": "python3"
  },
  "language_info": {
   "codemirror_mode": {
    "name": "ipython",
    "version": 3
   },
   "file_extension": ".py",
   "mimetype": "text/x-python",
   "name": "python",
   "nbconvert_exporter": "python",
   "pygments_lexer": "ipython3",
   "version": "3.7.3"
  }
 },
 "nbformat": 4,
 "nbformat_minor": 2
}
