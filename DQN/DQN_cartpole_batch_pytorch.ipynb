{
 "cells": [
  {
   "cell_type": "markdown",
   "metadata": {},
   "source": [
    "DQN cartpole-v1 environment"
   ]
  },
  {
   "cell_type": "code",
   "execution_count": 1,
   "metadata": {},
   "outputs": [],
   "source": [
    "import gym\n",
    "import torch\n",
    "import torch.nn as nn\n",
    "import torch.nn.functional as F\n",
    "import torch.optim as optim\n",
    "from torch.distributions import Categorical\n",
    "import matplotlib.pyplot as plt\n",
    "import numpy as np\n",
    "import time\n",
    "import random"
   ]
  },
  {
   "cell_type": "code",
   "execution_count": 2,
   "metadata": {},
   "outputs": [],
   "source": [
    "class DQN(nn.Module):\n",
    "    def __init__(self):\n",
    "        super(DQN, self).__init__()\n",
    "        self.fc1 = nn.Linear(4,512)\n",
    "        self.fc_q = nn.Linear(512,2)\n",
    "        self.optimizer = optim.Adam(self.parameters(), lr=0.0003)\n",
    "    \n",
    "    def Q(self, x):\n",
    "        x = F.relu(self.fc1(x))\n",
    "        q = self.fc_q(x)\n",
    "        return q\n",
    "    \n",
    "    def train(self, loss):\n",
    "        self.optimizer.zero_grad()\n",
    "        loss.backward(retain_graph=True)\n",
    "        self.optimizer.step()"
   ]
  },
  {
   "cell_type": "code",
   "execution_count": 3,
   "metadata": {},
   "outputs": [],
   "source": [
    "env = gym.make('CartPole-v1')\n",
    "model = DQN()\n",
    "GAMMA = 0.98\n",
    "EPSILON = 0.1\n",
    "BATCH_SIZE = 32\n",
    "N = 30000 ## reply memory size\n",
    "replay_memory = []"
   ]
  },
  {
   "cell_type": "code",
   "execution_count": 4,
   "metadata": {},
   "outputs": [],
   "source": [
    "def epsilon_greedy(Q, eps, action_dim):\n",
    "    if random.random() < eps:\n",
    "        action = random.randint(0, action_dim-1)\n",
    "    else:\n",
    "        action = torch.argmax(Q).item()\n",
    "    return action\n",
    "\n",
    "def store_transition(s, a, r, s_prime, done):\n",
    "    if len(replay_memory) == N:\n",
    "        del(replay_memory[0])\n",
    "    replay_memory.append((s, a, r, s_prime, done))\n",
    "    \n",
    "def training():\n",
    "    s_list, r_list, a_list, s_p_list, done_list = [], [], [], [], []\n",
    "    mini_batch = random.sample(replay_memory, BATCH_SIZE)\n",
    "    for sample in mini_batch:\n",
    "        s_list.append(sample[0].unsqueeze(0))\n",
    "        s_p_list.append(sample[3].unsqueeze(0))\n",
    "        r_list.append([sample[2]])\n",
    "        a_list.append([sample[1]])\n",
    "        done_list.append([0]) if sample[-1] else done_list.append([1])\n",
    "    s = torch.cat(s_list, dim=0)\n",
    "    s_p = torch.cat(s_p_list, dim=0)\n",
    "    a = torch.tensor(a_list).reshape(-1,1)\n",
    "    r = torch.tensor(r_list, dtype=torch.float).reshape(-1,1)\n",
    "    done_mask = torch.tensor(done_list, dtype=torch.float).reshape(-1,1)\n",
    "    \n",
    "    cur_Q = model.Q(s)\n",
    "    next_Q = model.Q(s_p)\n",
    "    td_target = r + GAMMA*torch.max(next_Q, dim=1)[0].reshape(-1,1)*done_mask\n",
    "    loss = (td_target.detach() - cur_Q.gather(1,a)).pow(2).mean()\n",
    "    model.train(loss)\n",
    "\n",
    "def test_agent():\n",
    "    reward_sum = 0.0\n",
    "    for ep in range(10):\n",
    "        observation = env.reset()\n",
    "        while True:\n",
    "            state = torch.tensor(observation, dtype=torch.float)\n",
    "            action = torch.argmax(model.Q(state))\n",
    "            observation, reward, done, _ = env.step(action.item())\n",
    "            reward_sum += reward\n",
    "            if done: break\n",
    "    return reward_sum/10.0"
   ]
  },
  {
   "cell_type": "code",
   "execution_count": 5,
   "metadata": {},
   "outputs": [
    {
     "name": "stdout",
     "output_type": "stream",
     "text": [
      "Episode 19 , Greedy action reward : 9.500000\n",
      "Episode 39 , Greedy action reward : 9.500000\n",
      "Episode 59 , Greedy action reward : 9.300000\n",
      "Episode 79 , Greedy action reward : 9.600000\n",
      "Episode 99 , Greedy action reward : 9.200000\n",
      "Episode 119 , Greedy action reward : 9.400000\n",
      "Episode 139 , Greedy action reward : 9.800000\n",
      "Episode 159 , Greedy action reward : 10.400000\n",
      "Episode 179 , Greedy action reward : 9.500000\n",
      "Episode 199 , Greedy action reward : 18.800000\n",
      "Episode 219 , Greedy action reward : 40.600000\n",
      "Episode 239 , Greedy action reward : 39.700000\n",
      "Episode 259 , Greedy action reward : 61.800000\n",
      "Episode 279 , Greedy action reward : 184.800000\n",
      "Episode 299 , Greedy action reward : 174.300000\n",
      "Episode 319 , Greedy action reward : 176.400000\n",
      "Episode 339 , Greedy action reward : 222.000000\n",
      "Episode 359 , Greedy action reward : 252.100000\n",
      "Episode 379 , Greedy action reward : 241.200000\n",
      "Episode 399 , Greedy action reward : 204.400000\n",
      "Episode 419 , Greedy action reward : 234.700000\n",
      "Episode 439 , Greedy action reward : 220.700000\n",
      "Episode 459 , Greedy action reward : 236.900000\n",
      "Episode 479 , Greedy action reward : 326.100000\n",
      "Episode 499 , Greedy action reward : 262.300000\n",
      "Episode 519 , Greedy action reward : 232.900000\n",
      "Episode 539 , Greedy action reward : 282.300000\n",
      "Episode 559 , Greedy action reward : 319.400000\n",
      "Episode 579 , Greedy action reward : 330.700000\n",
      "Episode 599 , Greedy action reward : 336.800000\n",
      "Episode 619 , Greedy action reward : 284.600000\n",
      "Episode 639 , Greedy action reward : 331.000000\n",
      "Episode 659 , Greedy action reward : 368.400000\n",
      "Episode 679 , Greedy action reward : 306.400000\n",
      "Episode 699 , Greedy action reward : 331.900000\n",
      "Episode 719 , Greedy action reward : 266.000000\n",
      "Episode 739 , Greedy action reward : 468.700000\n",
      "Episode 759 , Greedy action reward : 252.800000\n",
      "Episode 779 , Greedy action reward : 404.800000\n",
      "Episode 799 , Greedy action reward : 297.300000\n",
      "Episode 819 , Greedy action reward : 312.400000\n",
      "Episode 839 , Greedy action reward : 354.300000\n",
      "Episode 859 , Greedy action reward : 234.400000\n",
      "Episode 879 , Greedy action reward : 324.000000\n",
      "Episode 899 , Greedy action reward : 277.300000\n",
      "Episode 919 , Greedy action reward : 326.300000\n",
      "Episode 939 , Greedy action reward : 367.500000\n",
      "Episode 959 , Greedy action reward : 442.300000\n",
      "Episode 979 , Greedy action reward : 413.100000\n",
      "Episode 999 , Greedy action reward : 417.500000\n",
      "Episode 1019 , Greedy action reward : 475.600000\n"
     ]
    }
   ],
   "source": [
    "reward_list = []\n",
    "\n",
    "for ep in range(2000):\n",
    "    observation = env.reset()\n",
    "    while True:\n",
    "        state = torch.tensor(observation, dtype=torch.float)\n",
    "        action = epsilon_greedy(model.Q(state), EPSILON, 2)\n",
    "        observation, reward, done, _ = env.step(action)\n",
    "        next_state = torch.tensor(observation, dtype=torch.float)\n",
    "        store_transition(state, action, reward, next_state, done)\n",
    "        if len(replay_memory) > 1000:\n",
    "            training()\n",
    "        if done:\n",
    "            break\n",
    "            \n",
    "    if ep % 20 == 19:\n",
    "        test_reward = test_agent()\n",
    "        print('Episode %d'%ep,', Greedy action reward : %f'%(test_reward))\n",
    "        reward_list.append(test_reward)\n",
    "        if test_reward > 470: break\n",
    "env.close()"
   ]
  },
  {
   "cell_type": "markdown",
   "metadata": {},
   "source": [
    "Learning curve\n",
    "\n",
    "10 game mean score every 20 episode"
   ]
  },
  {
   "cell_type": "code",
   "execution_count": 6,
   "metadata": {},
   "outputs": [
    {
     "data": {
      "image/png": "[encoded data removed]",
      "text/plain": [
       "<Figure size 432x288 with 1 Axes>"
      ]
     },
     "metadata": {
      "needs_background": "light"
     },
     "output_type": "display_data"
    }
   ],
   "source": [
    "plt.plot(reward_list)\n",
    "plt.show()"
   ]
  },
  {
   "cell_type": "markdown",
   "metadata": {},
   "source": [
    "Test rendering"
   ]
  },
  {
   "cell_type": "code",
   "execution_count": 7,
   "metadata": {
    "scrolled": true
   },
   "outputs": [],
   "source": [
    "for ep in range(10):\n",
    "    observation = env.reset()\n",
    "    while True:\n",
    "        time.sleep(0.05)\n",
    "        env.render()\n",
    "\n",
    "        state = torch.tensor(observation, dtype=torch.float)\n",
    "        action = torch.argmax(model.Q(state))\n",
    "        observation, reward, done, _ = env.step(action.item())\n",
    "        if done: break\n",
    "env.close()"
   ]
  }
 ],
 "metadata": {
  "kernelspec": {
   "display_name": "Python 3",
   "language": "python",
   "name": "python3"
  },
  "language_info": {
   "codemirror_mode": {
    "name": "ipython",
    "version": 3
   },
   "file_extension": ".py",
   "mimetype": "text/x-python",
   "name": "python",
   "nbconvert_exporter": "python",
   "pygments_lexer": "ipython3",
   "version": "3.7.3"
  }
 },
 "nbformat": 4,
 "nbformat_minor": 2
}
