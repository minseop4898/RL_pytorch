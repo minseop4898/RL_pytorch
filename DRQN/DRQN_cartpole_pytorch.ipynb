{
 "cells": [
  {
   "cell_type": "markdown",
   "metadata": {},
   "source": [
    "DRQN Cartpole-v1 environment\n",
    "\n",
    "- Bootstrapped Squential Updates\n",
    "- Using GRU (not LSTM)"
   ]
  },
  {
   "cell_type": "code",
   "execution_count": 1,
   "metadata": {},
   "outputs": [],
   "source": [
    "import gym\n",
    "import torch\n",
    "import torch.nn as nn\n",
    "import torch.nn.functional as F\n",
    "import torch.optim as optim\n",
    "from torch.distributions import Categorical\n",
    "import matplotlib.pyplot as plt\n",
    "import numpy as np\n",
    "import time\n",
    "import random"
   ]
  },
  {
   "cell_type": "code",
   "execution_count": 2,
   "metadata": {},
   "outputs": [],
   "source": [
    "class DQN(nn.Module):\n",
    "    def __init__(self):\n",
    "        super(DQN, self).__init__()\n",
    "        self.fc1 = nn.Linear(4,64)\n",
    "        self.fc_gru = nn.GRU(64,32)\n",
    "        self.fc_q = nn.Linear(32,2)\n",
    "        self.optimizer = optim.Adam(self.parameters(), lr=0.0003)\n",
    "    \n",
    "    def Q(self, x, h_in):\n",
    "        x = F.relu(self.fc1(x))\n",
    "        x = x.reshape(-1,1,64)\n",
    "        x, h_out = self.fc_gru(x, h_in)\n",
    "        x = x.reshape(-1,32)\n",
    "        q = self.fc_q(x)\n",
    "        return q, h_out\n",
    "    \n",
    "    def train(self, loss):\n",
    "        self.optimizer.zero_grad()\n",
    "        loss.backward(retain_graph=True)\n",
    "        self.optimizer.step()"
   ]
  },
  {
   "cell_type": "code",
   "execution_count": 3,
   "metadata": {},
   "outputs": [],
   "source": [
    "env = gym.make('CartPole-v1')\n",
    "model = DQN()\n",
    "GAMMA = 0.98\n",
    "EPSILON = 0.1\n",
    "N = 500 ## reply memory size"
   ]
  },
  {
   "cell_type": "code",
   "execution_count": 4,
   "metadata": {},
   "outputs": [],
   "source": [
    "def epsilon_greedy(Q, eps, action_dim):\n",
    "    if random.random() < eps:\n",
    "        action = random.randint(0, action_dim-1)\n",
    "    else:\n",
    "        action = torch.argmax(Q[0]).item()\n",
    "    return action\n",
    "\n",
    "class Replay_memory():\n",
    "    def __init__(self):\n",
    "        self.replay_mem = []\n",
    "        self.episode_mem = []\n",
    "        \n",
    "    def store_transition(self, state, action, reward, next_state, done, h_in, h_out):\n",
    "        s = state.unsqueeze(0)\n",
    "        s_p = next_state.unsqueeze(0)\n",
    "        a = torch.tensor([[action]])\n",
    "        r = torch.tensor([[reward]])\n",
    "        h_i = h_in\n",
    "        h_o = h_out\n",
    "        if done:\n",
    "            d = torch.tensor([[0]], dtype=torch.float)\n",
    "        else:\n",
    "            d = torch.tensor([[1]], dtype=torch.float)\n",
    "        self.episode_mem.append((s,a,r,s_p,d,h_i.detach(),h_o.detach()))\n",
    "        \n",
    "        if done:\n",
    "            if len(self.replay_mem) == N: del(self.replay_mem[0])\n",
    "            self.replay_mem.append(self.episode_mem)\n",
    "            self.episode_mem = []\n",
    "            \n",
    "    def make_episode_batch(self):\n",
    "        ep_batch = random.sample(self.replay_mem, 1)\n",
    "        s_list, a_list, r_list, s_p_list, h_in_list, h_out_list, done_list  = [], [], [], [], [], [], []\n",
    "        for transition in ep_batch[0]:\n",
    "            s, a, r, s_p, d, h_i, h_o = transition\n",
    "            s_list.append(s)\n",
    "            a_list.append(a)\n",
    "            r_list.append(r)\n",
    "            s_p_list.append(s_p)\n",
    "            h_in_list.append(h_i)\n",
    "            h_out_list.append(h_o)\n",
    "            done_list.append(d)\n",
    "        return torch.cat(s_list, dim=0), torch.cat(a_list, dim=0), torch.cat(r_list, dim=0), torch.cat(s_p_list, dim=0),\\\n",
    "                torch.cat(done_list, dim=0), h_in_list[0], h_out_list[0]\n",
    "    \n",
    "    def mem_size(self):\n",
    "        return len(self.replay_mem)\n",
    "    \n",
    "def training(replay_mem):\n",
    "    s, a, r, s_p, done_mask, h_in, h_out = replay_mem.make_episode_batch()\n",
    "    \n",
    "    cur_Q = model.Q(s, h_in)[0]\n",
    "    next_Q = model.Q(s_p, h_out)[0]\n",
    "    td_target = r + GAMMA*torch.max(next_Q, dim=1)[0].reshape(-1,1)*done_mask\n",
    "    loss = (td_target.detach() - cur_Q.gather(1,a)).pow(2).mean()\n",
    "    model.train(loss)\n",
    "    \n",
    "def test_agent():\n",
    "    reward_sum = 0.0\n",
    "    for ep in range(10):\n",
    "        observation = env.reset()\n",
    "        h_out = torch.zeros([1, 1, 32], dtype=torch.float)\n",
    "        while True:\n",
    "            state = torch.tensor(observation, dtype=torch.float)\n",
    "            h_in = h_out\n",
    "            action = torch.argmax(model.Q(state, h_in)[0])\n",
    "            observation, reward, done, _ = env.step(action.item())\n",
    "            reward_sum += reward\n",
    "            if done: break\n",
    "    return reward_sum/10.0"
   ]
  },
  {
   "cell_type": "code",
   "execution_count": 5,
   "metadata": {},
   "outputs": [
    {
     "name": "stdout",
     "output_type": "stream",
     "text": [
      "Episode 19 , Greedy action reward : 9.200000\n",
      "Episode 39 , Greedy action reward : 9.200000\n",
      "Episode 59 , Greedy action reward : 9.200000\n",
      "Episode 79 , Greedy action reward : 9.400000\n",
      "Episode 99 , Greedy action reward : 9.100000\n",
      "Episode 119 , Greedy action reward : 9.300000\n",
      "Episode 139 , Greedy action reward : 10.700000\n",
      "Episode 159 , Greedy action reward : 11.600000\n",
      "Episode 179 , Greedy action reward : 13.000000\n",
      "Episode 199 , Greedy action reward : 13.900000\n",
      "Episode 219 , Greedy action reward : 15.400000\n",
      "Episode 239 , Greedy action reward : 19.000000\n",
      "Episode 259 , Greedy action reward : 22.200000\n",
      "Episode 279 , Greedy action reward : 44.500000\n",
      "Episode 299 , Greedy action reward : 9.500000\n",
      "Episode 319 , Greedy action reward : 107.000000\n",
      "Episode 339 , Greedy action reward : 130.900000\n",
      "Episode 359 , Greedy action reward : 149.300000\n",
      "Episode 379 , Greedy action reward : 500.000000\n"
     ]
    }
   ],
   "source": [
    "replay_memory = Replay_memory()\n",
    "reward_list = []\n",
    "\n",
    "for ep in range(20000):\n",
    "    observation = env.reset()\n",
    "    h_out = torch.zeros([1, 1, 32], dtype=torch.float)\n",
    "    while True:\n",
    "        state = torch.tensor(observation, dtype=torch.float)\n",
    "        h_in = h_out\n",
    "        Q, h_out = model.Q(state, h_in)\n",
    "        action = epsilon_greedy(Q, EPSILON, 2)\n",
    "        observation, reward, done, _ = env.step(action)\n",
    "        next_state = torch.tensor(observation, dtype=torch.float)\n",
    "        replay_memory.store_transition(state, action, reward, next_state, done, h_in, h_out)\n",
    "        if replay_memory.mem_size() > 10:\n",
    "            training(replay_memory)\n",
    "        if done:\n",
    "            break\n",
    "            \n",
    "    if ep % 20 == 19:\n",
    "        test_reward = test_agent()\n",
    "        print('Episode %d'%ep,', Greedy action reward : %f'%(test_reward))\n",
    "        reward_list.append(test_reward)\n",
    "        if test_reward > 470: break\n",
    "        \n",
    "env.close()"
   ]
  },
  {
   "cell_type": "markdown",
   "metadata": {},
   "source": [
    "Learning curve\n",
    "\n",
    "10 game mean score every 20 episode"
   ]
  },
  {
   "cell_type": "code",
   "execution_count": 6,
   "metadata": {},
   "outputs": [
    {
     "data": {
      "image/png": "[encoded data removed]",
      "text/plain": [
       "<Figure size 432x288 with 1 Axes>"
      ]
     },
     "metadata": {
      "needs_background": "light"
     },
     "output_type": "display_data"
    }
   ],
   "source": [
    "plt.plot(reward_list)\n",
    "plt.show()"
   ]
  }
 ],
 "metadata": {
  "kernelspec": {
   "display_name": "Python 3",
   "language": "python",
   "name": "python3"
  },
  "language_info": {
   "codemirror_mode": {
    "name": "ipython",
    "version": 3
   },
   "file_extension": ".py",
   "mimetype": "text/x-python",
   "name": "python",
   "nbconvert_exporter": "python",
   "pygments_lexer": "ipython3",
   "version": "3.7.3"
  }
 },
 "nbformat": 4,
 "nbformat_minor": 2
}
